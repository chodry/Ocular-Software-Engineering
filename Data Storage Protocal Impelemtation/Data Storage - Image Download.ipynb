{
 "cells": [
  {
   "cell_type": "code",
   "execution_count": 1,
   "id": "8f1dc14f",
   "metadata": {},
   "outputs": [],
   "source": [
    "# !pip3 install google-cloud-storage"
   ]
  },
  {
   "cell_type": "code",
   "execution_count": 9,
   "id": "b4a7cbf6",
   "metadata": {},
   "outputs": [],
   "source": [
    "# load the required packages\n",
    "from google.cloud import storage\n",
    "import os\n",
    "import math"
   ]
  },
  {
   "cell_type": "code",
   "execution_count": 3,
   "id": "a622bcd9",
   "metadata": {},
   "outputs": [],
   "source": [
    "# load the credentials file\n",
    "storage_client = storage.Client.from_service_account_json(\"chodrine.json\")\n",
    "\n",
    "# define the bucket name\n",
    "bucket_name = \"ocular\"\n",
    "bucket = storage_client.get_bucket(bucket_name)"
   ]
  },
  {
   "cell_type": "code",
   "execution_count": 5,
   "id": "e4335268",
   "metadata": {},
   "outputs": [
    {
     "name": "stdout",
     "output_type": "stream",
     "text": [
      "Folder: Malaria/Data-Collection/Makerere/2023-11-13_16:50:59/cassava-2.jpg\n",
      "Folder: Malaria/Data-Collection/Makerere/2023-11-13_16:50:59/cassava-3.jpg\n",
      "Folder: Malaria/Data-Collection/Makerere/2023-11-13_16:50:59/cassava-4.jpg\n",
      "Folder: Malaria/Data-Collection/Makerere/2023-11-13_16:50:59/cassava-5.jpg\n",
      "Folder: Malaria/Data-Collection/Makerere/2023-11-13_16:50:59/cassava-6.jpg\n",
      "Folder: Malaria/Data-Collection/Makerere/2023-11-13_16:50:59/cassava.jpg\n",
      "Folder: Malaria/Data-Collection/Mulago-Kirudu/output-metadata.json\n"
     ]
    }
   ],
   "source": [
    "exclude_extensions = ['/']\n",
    "blobs = bucket.list_blobs()\n",
    "for blob in blobs:\n",
    "    if exclude_extensions and any(blob.name.endswith(ext) for ext in exclude_extensions):\n",
    "        continue\n",
    "    print(f\"Folder: {blob.name}\")"
   ]
  },
  {
   "cell_type": "code",
   "execution_count": 10,
   "id": "0113be1e",
   "metadata": {},
   "outputs": [],
   "source": [
    "# convert bytes to KBs or MBs etc..\n",
    "def convert_size(size_bytes):\n",
    "    if size_bytes == 0:\n",
    "        return \"0 Bytes\"\n",
    "    size_names = (\"Bytes\", \"KB\", \"MB\", \"GB\", \"TB\", \"PB\", \"EB\", \"ZB\", \"YB\")\n",
    "    i = int(math.floor(math.log(size_bytes, 1024)))\n",
    "    p = math.pow(1024, i)\n",
    "    size = round(size_bytes / p, 2)\n",
    "    return f\"{size} {size_names[i]}\""
   ]
  },
  {
   "cell_type": "code",
   "execution_count": 17,
   "id": "b64eacae",
   "metadata": {},
   "outputs": [
    {
     "data": {
      "text/plain": [
       "'57.14 KB'"
      ]
     },
     "execution_count": 17,
     "metadata": {},
     "output_type": "execute_result"
    }
   ],
   "source": [
    "folder_size = 0\n",
    "# define bucket folder for which you want to get the folder size\n",
    "folder_pa = f'Malaria/Data-Collection/Makerere/2023-11-13_16:50:59'\n",
    "for blob in bucket.list_blobs(prefix=folder_pa):\n",
    "    folder_size += blob.size\n",
    "\n",
    "folder_size_mb = convert_size(folder_size)\n",
    "folder_size_mb"
   ]
  },
  {
   "cell_type": "code",
   "execution_count": 18,
   "id": "e920a417",
   "metadata": {},
   "outputs": [],
   "source": [
    "# function to download files from a specific folder in the bucket\n",
    "\n",
    "def download_files_from_folder(bucket, folder_path, local_destination):\n",
    "    # List all blobs (files) in the specified folder\n",
    "    blobs = bucket.list_blobs(prefix=folder_path)\n",
    "\n",
    "    for blob in blobs:\n",
    "        # Construct local file path\n",
    "        local_file_path = os.path.join(local_destination, os.path.relpath(blob.name, folder_path))\n",
    "        \n",
    "        # Ensure local directory exists\n",
    "        os.makedirs(os.path.dirname(local_file_path), exist_ok=True)\n",
    "        \n",
    "        # Download the blob to the local file\n",
    "        blob.download_to_filename(local_file_path)\n",
    "\n",
    "        print(f'Blob {blob.name} downloaded to {local_file_path}.')"
   ]
  },
  {
   "cell_type": "code",
   "execution_count": 19,
   "id": "6d2cc00f",
   "metadata": {},
   "outputs": [],
   "source": [
    "# Specify the folder path within the bucket, and local destination directory\n",
    "folder_path = 'Malaria/Data-Collection/Makerere/'  # Include the full path within the bucket\n",
    "local_destination = 'local_folder'"
   ]
  },
  {
   "cell_type": "code",
   "execution_count": 21,
   "id": "17e2b358",
   "metadata": {},
   "outputs": [
    {
     "name": "stdout",
     "output_type": "stream",
     "text": [
      "Blob Malaria/Data-Collection/Makerere/2023-11-13_16:50:59/cassava-2.jpg downloaded to local_folder/2023-11-13_16:50:59/cassava-2.jpg.\n",
      "Blob Malaria/Data-Collection/Makerere/2023-11-13_16:50:59/cassava-3.jpg downloaded to local_folder/2023-11-13_16:50:59/cassava-3.jpg.\n",
      "Blob Malaria/Data-Collection/Makerere/2023-11-13_16:50:59/cassava-4.jpg downloaded to local_folder/2023-11-13_16:50:59/cassava-4.jpg.\n",
      "Blob Malaria/Data-Collection/Makerere/2023-11-13_16:50:59/cassava-5.jpg downloaded to local_folder/2023-11-13_16:50:59/cassava-5.jpg.\n",
      "Blob Malaria/Data-Collection/Makerere/2023-11-13_16:50:59/cassava-6.jpg downloaded to local_folder/2023-11-13_16:50:59/cassava-6.jpg.\n",
      "Blob Malaria/Data-Collection/Makerere/2023-11-13_16:50:59/cassava.jpg downloaded to local_folder/2023-11-13_16:50:59/cassava.jpg.\n"
     ]
    }
   ],
   "source": [
    "download_files_from_folder(bucket, folder_path, local_destination)"
   ]
  },
  {
   "cell_type": "code",
   "execution_count": null,
   "id": "8981c4f6",
   "metadata": {},
   "outputs": [],
   "source": []
  }
 ],
 "metadata": {
  "kernelspec": {
   "display_name": "python3.11",
   "language": "python",
   "name": "python3.11"
  },
  "language_info": {
   "codemirror_mode": {
    "name": "ipython",
    "version": 3
   },
   "file_extension": ".py",
   "mimetype": "text/x-python",
   "name": "python",
   "nbconvert_exporter": "python",
   "pygments_lexer": "ipython3",
   "version": "3.11.4"
  }
 },
 "nbformat": 4,
 "nbformat_minor": 5
}
