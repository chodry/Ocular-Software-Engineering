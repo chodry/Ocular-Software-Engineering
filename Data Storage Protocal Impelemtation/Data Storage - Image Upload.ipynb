{
 "cells": [
  {
   "cell_type": "raw",
   "id": "7044b5c1",
   "metadata": {},
   "source": [
    "# !pip3 install google-cloud-storage"
   ]
  },
  {
   "cell_type": "code",
   "execution_count": 68,
   "id": "b2c4c4b4",
   "metadata": {},
   "outputs": [],
   "source": [
    "# load the required packages\n",
    "from google.cloud import storage\n",
    "import os\n",
    "import fnmatch\n",
    "from datetime import datetime"
   ]
  },
  {
   "cell_type": "code",
   "execution_count": 3,
   "id": "2376637e",
   "metadata": {},
   "outputs": [],
   "source": [
    "# load the credentials file\n",
    "storage_client = storage.Client.from_service_account_json(\"chodrine.json\")\n",
    "\n",
    "# define the bucket name\n",
    "bucket_name = \"ocular\"\n",
    "bucket = storage_client.get_bucket(bucket_name)\n",
    "exclude_extensions = ['.jpeg', '.jpg', '.png', '.json']"
   ]
  },
  {
   "cell_type": "code",
   "execution_count": 4,
   "id": "21fbed7c",
   "metadata": {},
   "outputs": [
    {
     "name": "stdout",
     "output_type": "stream",
     "text": [
      "Folder: Cervical-Cancer/\n",
      "Folder: Malaria/\n",
      "Folder: Malaria/Data-Collection/\n",
      "Folder: Malaria/Data-Collection/Mulago-Kirudu/\n",
      "Folder: Tuberculosis/\n"
     ]
    }
   ],
   "source": [
    "# load folders and sub-folders\n",
    "blobs = bucket.list_blobs()\n",
    "for blob in blobs:\n",
    "    if exclude_extensions and any(blob.name.endswith(ext) for ext in exclude_extensions):\n",
    "        continue\n",
    "    print(f\"Folder: {blob.name}\")"
   ]
  },
  {
   "cell_type": "markdown",
   "id": "d314fb08",
   "metadata": {},
   "source": [
    "All images have to be uploaded to a new sub-folder and this sub-folder will have a name as the current date and time. This will be automatically generated"
   ]
  },
  {
   "cell_type": "code",
   "execution_count": 5,
   "id": "dd28f6ff",
   "metadata": {},
   "outputs": [
    {
     "data": {
      "text/plain": [
       "'2023-11-13_16:50:59'"
      ]
     },
     "execution_count": 5,
     "metadata": {},
     "output_type": "execute_result"
    }
   ],
   "source": [
    "# get current date and time\n",
    "current_datetime = datetime.now()\n",
    "formatted_datetime = current_datetime.strftime(\"%Y-%m-%d_%H:%M:%S\")\n",
    "formatted_datetime"
   ]
  },
  {
   "cell_type": "code",
   "execution_count": 57,
   "id": "90be5b4e",
   "metadata": {},
   "outputs": [],
   "source": [
    "image_paths = []\n",
    "def list_files_with_extension(start_path, extension):\n",
    "    for root, dirs, files in os.walk(start_path):\n",
    "        for file in fnmatch.filter(files, f'*.{extension}'):\n",
    "            file_path = os.path.join(root, file)\n",
    "            image_paths.append(file_path)\n",
    "            print(file_path)"
   ]
  },
  {
   "cell_type": "code",
   "execution_count": 58,
   "id": "f6975526",
   "metadata": {},
   "outputs": [],
   "source": [
    "# Specify the directory path and file extension\n",
    "directory_path = '/Users/chodry/chodrine/notebooks/Ocular/images'\n",
    "file_extension = 'jpg'"
   ]
  },
  {
   "cell_type": "code",
   "execution_count": 59,
   "id": "692c9f71",
   "metadata": {},
   "outputs": [
    {
     "name": "stdout",
     "output_type": "stream",
     "text": [
      "/Users/chodry/chodrine/notebooks/Ocular/images/cassava.jpg\n",
      "/Users/chodry/chodrine/notebooks/Ocular/images/validate/cassava-6.jpg\n",
      "/Users/chodry/chodrine/notebooks/Ocular/images/test/cassava-2.jpg\n",
      "/Users/chodry/chodrine/notebooks/Ocular/images/test/day-one/cassava-3.jpg\n",
      "/Users/chodry/chodrine/notebooks/Ocular/images/test/day-two/cassava-4.jpg\n",
      "/Users/chodry/chodrine/notebooks/Ocular/images/train/cassava-5.jpg\n"
     ]
    }
   ],
   "source": [
    "images_to_upload = list_files_with_extension(directory_path, file_extension)"
   ]
  },
  {
   "cell_type": "code",
   "execution_count": 64,
   "id": "734d680e",
   "metadata": {},
   "outputs": [
    {
     "data": {
      "text/plain": [
       "['cassava.jpg',\n",
       " 'cassava-6.jpg',\n",
       " 'cassava-2.jpg',\n",
       " 'cassava-3.jpg',\n",
       " 'cassava-4.jpg',\n",
       " 'cassava-5.jpg']"
      ]
     },
     "execution_count": 64,
     "metadata": {},
     "output_type": "execute_result"
    }
   ],
   "source": [
    "# image_paths\n",
    "image_names = [os.path.basename(file_path) for file_path in image_paths]\n",
    "image_names\n",
    "# len(image_names)"
   ]
  },
  {
   "cell_type": "code",
   "execution_count": 67,
   "id": "b1b22286",
   "metadata": {},
   "outputs": [],
   "source": [
    "# upload images to the bucket\n",
    "\n",
    "# first we specify the folder to upload the images  (check the forth cell for the available folders)\n",
    "# the folder below is an example but make sure the last folder name is the current date (formatted_datetime)\n",
    "# This applies to all uploads\n",
    "\n",
    "folder = f'Malaria/Data-Collection/Makerere/{formatted_datetime}'\n",
    "\n",
    "for image_path in image_paths:\n",
    "    image_name = os.path.basename(image_path)\n",
    "    blob = bucket.blob(f'Malaria/Data-Collection/Makerere/{formatted_datetime}/{image_name}')\n",
    "    with open(image_path, 'rb') as image:\n",
    "        blob.upload_from_file(image, content_type='image/*')"
   ]
  },
  {
   "cell_type": "code",
   "execution_count": null,
   "id": "4f10d72c",
   "metadata": {},
   "outputs": [],
   "source": []
  }
 ],
 "metadata": {
  "kernelspec": {
   "display_name": "python3.11",
   "language": "python",
   "name": "python3.11"
  },
  "language_info": {
   "codemirror_mode": {
    "name": "ipython",
    "version": 3
   },
   "file_extension": ".py",
   "mimetype": "text/x-python",
   "name": "python",
   "nbconvert_exporter": "python",
   "pygments_lexer": "ipython3",
   "version": "3.11.4"
  }
 },
 "nbformat": 4,
 "nbformat_minor": 5
}
